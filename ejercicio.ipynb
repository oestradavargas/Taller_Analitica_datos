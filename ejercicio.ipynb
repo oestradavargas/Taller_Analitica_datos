{
 "cells": [
  {
   "cell_type": "markdown",
   "metadata": {},
   "source": [
    "# Ejercicio de análisis e interpretación de datos\n",
    "## Oscar Estrada - Alianza Bioversity CIAT"
   ]
  },
  {
   "cell_type": "markdown",
   "metadata": {},
   "source": [
    "### APRENDIZAJE SUPERVISADO"
   ]
  },
  {
   "cell_type": "markdown",
   "metadata": {},
   "source": [
    "### 1. Cargar librerías"
   ]
  },
  {
   "cell_type": "code",
   "execution_count": 67,
   "metadata": {},
   "outputs": [],
   "source": [
    "# Librerias necesarias para la manipulacion de datos, exploracion y modelacion\n",
    "import pandas as pd\n",
    "import numpy as np\n",
    "import matplotlib.pyplot as plt\n",
    "import seaborn as sns\n",
    "sns.set_style(\"darkgrid\") #whitegrid\n",
    "from sklearn.model_selection import train_test_split\n",
    "from sklearn.ensemble import RandomForestRegressor\n",
    "from sklearn.model_selection import GridSearchCV\n",
    "from sklearn.inspection import PartialDependenceDisplay\n",
    "from sklearn.cluster import KMeans\n",
    "import warnings\n",
    "warnings.filterwarnings(\"ignore\")"
   ]
  },
  {
   "cell_type": "markdown",
   "metadata": {},
   "source": [
    "### 2. Cargar datos"
   ]
  },
  {
   "cell_type": "code",
   "execution_count": 68,
   "metadata": {},
   "outputs": [],
   "source": [
    "# Cargar datos desde GitHub\n",
    "df = pd.read_csv('https://github.com/oestradavargas/Taller_Analitica_datos/raw/main/datos.csv', encoding='latin')"
   ]
  },
  {
   "cell_type": "code",
   "execution_count": null,
   "metadata": {},
   "outputs": [],
   "source": [
    "# Ver tamaño de la base de datos (filas, columnas)\n",
    "df.shape"
   ]
  },
  {
   "cell_type": "code",
   "execution_count": null,
   "metadata": {},
   "outputs": [],
   "source": [
    "# Ver el encabezado de la base de datos\n",
    "df.head()"
   ]
  },
  {
   "cell_type": "code",
   "execution_count": null,
   "metadata": {},
   "outputs": [],
   "source": [
    "# Identificacion de variables numericas\n",
    "var_numericas =  (df.drop('REND', axis=1)).select_dtypes('number').columns\n",
    "var_numericas"
   ]
  },
  {
   "cell_type": "code",
   "execution_count": 72,
   "metadata": {},
   "outputs": [],
   "source": [
    "# Codificacion de variables dicotomicas SI/NO\n",
    "#pd.set_option('future.no_silent_downcasting', True)\n",
    "df = df.replace({'Si': 1, 'No': 0})"
   ]
  },
  {
   "cell_type": "code",
   "execution_count": null,
   "metadata": {},
   "outputs": [],
   "source": [
    "df.head()"
   ]
  },
  {
   "cell_type": "code",
   "execution_count": null,
   "metadata": {},
   "outputs": [],
   "source": [
    "# Ver cantidad de datos y tipo de variables\n",
    "df.info()"
   ]
  },
  {
   "cell_type": "markdown",
   "metadata": {},
   "source": [
    "### 3.1. Análisis exploratorio (numérico)"
   ]
  },
  {
   "cell_type": "code",
   "execution_count": null,
   "metadata": {},
   "outputs": [],
   "source": [
    "# Identificar las variables con datos faltantes NA\n",
    "df.isna().sum(0).sort_values(ascending=False).head()"
   ]
  },
  {
   "cell_type": "code",
   "execution_count": 76,
   "metadata": {},
   "outputs": [],
   "source": [
    "# Eliminar registros con datos faltantes\n",
    "df = df.dropna()"
   ]
  },
  {
   "cell_type": "code",
   "execution_count": null,
   "metadata": {},
   "outputs": [],
   "source": [
    "df.isna().sum(0).sort_values(ascending=False).head()"
   ]
  },
  {
   "cell_type": "code",
   "execution_count": null,
   "metadata": {},
   "outputs": [],
   "source": [
    "df.shape"
   ]
  },
  {
   "cell_type": "code",
   "execution_count": null,
   "metadata": {},
   "outputs": [],
   "source": [
    "# Resumen estadistico de las variables numericas\n",
    "df.describe()"
   ]
  },
  {
   "cell_type": "code",
   "execution_count": null,
   "metadata": {},
   "outputs": [],
   "source": [
    "# Descripcion de las variables categoricas\n",
    "df.describe(include='object')"
   ]
  },
  {
   "cell_type": "code",
   "execution_count": null,
   "metadata": {},
   "outputs": [],
   "source": [
    "# Exploracion de una variable categorica individualmente\n",
    "df['TEXT'].value_counts()"
   ]
  },
  {
   "cell_type": "code",
   "execution_count": 82,
   "metadata": {},
   "outputs": [],
   "source": [
    "# Eliminar una variable\n",
    "df = df.drop('TEXT', axis=1)"
   ]
  },
  {
   "cell_type": "markdown",
   "metadata": {},
   "source": [
    "### 3.2 Análisis exploratorio (gráfico)"
   ]
  },
  {
   "cell_type": "code",
   "execution_count": null,
   "metadata": {},
   "outputs": [],
   "source": [
    "# Histograma de la libreria Seaborn\n",
    "plt.figure(figsize=(10, 6))\n",
    "sns.histplot(data=df, x='REND', bins=18, kde=True)\n",
    "plt.title('HISTOGRAMA DE RENDIMIENTO', fontsize=16, fontweight='bold')\n",
    "plt.xlabel('Rendimiento (ton/ha)')\n",
    "plt.ylabel('Frecuencia')\n",
    "plt.tight_layout()\n",
    "plt.show()"
   ]
  },
  {
   "cell_type": "code",
   "execution_count": null,
   "metadata": {},
   "outputs": [],
   "source": [
    "# Boxplot\n",
    "plt.figure(figsize=(10, 6))\n",
    "sns.boxplot(data=df, x='REND')\n",
    "plt.title('BOXPLOT DE RENDIMIENTO', fontsize=16, fontweight='bold')\n",
    "plt.xlabel('(ton/ha)')\n",
    "plt.tight_layout()\n",
    "plt.show()"
   ]
  },
  {
   "cell_type": "code",
   "execution_count": null,
   "metadata": {},
   "outputs": [],
   "source": [
    "# Boxplots de fertilizantes\n",
    "fig, axes = plt.subplots(1, 3, figsize=(10, 6))\n",
    "sns.boxplot(y='N_TOTAL', data=df, color = '#1f77b4', ax=axes[0])\n",
    "axes[0].set_title('N TOTAL', fontweight = 'bold')\n",
    "axes[0].set_ylabel('(kg/ha)')\n",
    "sns.boxplot(y='P2O5_TOTAL', data=df, color = '#1f77b4', ax=axes[1])\n",
    "axes[1].set_title('P2O5 TOTAL', fontweight = 'bold')\n",
    "axes[1].set_ylabel('(kg/ha)')\n",
    "sns.boxplot(y='K2O_TOTAL', data=df, color = '#1f77b4', ax=axes[2])\n",
    "axes[2].set_title('K2O TOTAL', fontweight = 'bold')\n",
    "axes[2].set_ylabel('(kg/ha)')\n",
    "fig.suptitle('BOXPLOTS DE FERTILIZANTES QUIMICOS TOTALES', fontsize=16, fontweight='bold')\n",
    "plt.tight_layout()\n",
    "plt.show()"
   ]
  },
  {
   "cell_type": "code",
   "execution_count": null,
   "metadata": {},
   "outputs": [],
   "source": [
    "# Grafico de dispersión\n",
    "plt.figure(figsize=(10, 6))\n",
    "sns.scatterplot(data=df, y='REND', x='N_TOTAL')\n",
    "plt.title('N_TOTAL vs RENDIMIENTO', fontsize=16, fontweight='bold')\n",
    "plt.xlabel('N_TOTAL (kg/ha)')\n",
    "plt.ylabel('Rendimiento (ton/ha)')\n",
    "plt.tight_layout()\n",
    "plt.show()"
   ]
  },
  {
   "cell_type": "code",
   "execution_count": 87,
   "metadata": {},
   "outputs": [],
   "source": [
    "# Eliminar valores fuera de rango para los fertilizantes\n",
    "df = df[(df['N_TOTAL'] >= 40) & (df['N_TOTAL'] <= 350)]\n",
    "df = df[(df['P2O5_TOTAL'] >= 20) & (df['P2O5_TOTAL'] <= 150)]\n",
    "df = df[(df['K2O_TOTAL'] >= 20) & (df['K2O_TOTAL'] <= 200)]"
   ]
  },
  {
   "cell_type": "code",
   "execution_count": null,
   "metadata": {},
   "outputs": [],
   "source": [
    "df.shape"
   ]
  },
  {
   "cell_type": "code",
   "execution_count": null,
   "metadata": {},
   "outputs": [],
   "source": [
    "# Grafico de frecuencias de métodos de siembra\n",
    "plt.figure(figsize=(10, 6))\n",
    "ax = sns.countplot(x=\"MET_SIEMBRA\", data=df)\n",
    "\n",
    "# Agregar etiquetas de frecuencia en cada barra\n",
    "for p in ax.patches:\n",
    "    ax.annotate(f'{p.get_height()} ({p.get_height() / len(df) * 100:.2f}%)',\n",
    "                (p.get_x() + p.get_width() / 2., p.get_height()),\n",
    "                ha='center', va='center', xytext=(0, 10), textcoords='offset points', fontsize=12)\n",
    "\n",
    "plt.title('METODO DE SIEMBRA', fontsize=16, fontweight='bold')\n",
    "plt.xlabel('Método')\n",
    "plt.ylabel('Frecuencia')\n",
    "plt.tight_layout()\n",
    "plt.show()"
   ]
  },
  {
   "cell_type": "markdown",
   "metadata": {},
   "source": [
    "### 4. Modelacion (Random Forest)"
   ]
  },
  {
   "cell_type": "code",
   "execution_count": 90,
   "metadata": {},
   "outputs": [],
   "source": [
    "# Codificar las variables categoricas\n",
    "df = pd.get_dummies(df, drop_first=True, dtype = int)\n",
    "df = df.reset_index(drop=True)"
   ]
  },
  {
   "cell_type": "code",
   "execution_count": null,
   "metadata": {},
   "outputs": [],
   "source": [
    "df.shape"
   ]
  },
  {
   "cell_type": "code",
   "execution_count": 91,
   "metadata": {},
   "outputs": [],
   "source": [
    "#### Definicion de X y Y\n",
    "X, y = df.drop(columns=\"REND\"), df[\"REND\"]"
   ]
  },
  {
   "cell_type": "code",
   "execution_count": 92,
   "metadata": {},
   "outputs": [],
   "source": [
    "### Particionamiento de los datos\n",
    "X_train, X_test, y_train, y_test = train_test_split(X, y, test_size = 0.20, random_state= 42)"
   ]
  },
  {
   "cell_type": "code",
   "execution_count": null,
   "metadata": {},
   "outputs": [],
   "source": [
    "print('X_train: ', X_train.shape)\n",
    "print('y_train: ', y_train.shape)\n",
    "print('X_test: ', X_test.shape)\n",
    "print('y_test: ', y_test.shape)"
   ]
  },
  {
   "cell_type": "code",
   "execution_count": null,
   "metadata": {},
   "outputs": [],
   "source": [
    "# Identificacion de las variables categoricas\n",
    "var_categoricas = list(set(X_train.columns) - set(var_numericas))\n",
    "var_categoricas = pd.Index(var_categoricas)\n",
    "var_categoricas"
   ]
  },
  {
   "cell_type": "code",
   "execution_count": null,
   "metadata": {},
   "outputs": [],
   "source": [
    "# Modelo RandomForest\n",
    "modelo = RandomForestRegressor(random_state=42,\n",
    "                               n_jobs=-1)\n",
    "\n",
    "modelo.fit(X_train, y_train)"
   ]
  },
  {
   "cell_type": "code",
   "execution_count": null,
   "metadata": {},
   "outputs": [],
   "source": [
    "# Metricas de evaluacion (R2)\n",
    "train_score = modelo.score(X_train, y_train)*100\n",
    "print(f'R2 de entrenamiento: {train_score:.3f} %')\n",
    "test_score = modelo.score(X_test, y_test)*100\n",
    "print(f'R2 de prueba: {test_score:.3f} %')"
   ]
  },
  {
   "cell_type": "markdown",
   "metadata": {},
   "source": [
    "### 4.1 Optimización del modelo"
   ]
  },
  {
   "cell_type": "code",
   "execution_count": null,
   "metadata": {},
   "outputs": [],
   "source": [
    "# Define el modelo a optimizar\n",
    "modelo = RandomForestRegressor(random_state=42, n_jobs=-1)\n",
    "\n",
    "# Define el espacio de búsqueda de los hiperparámetros\n",
    "param_grid = {\n",
    "    'n_estimators': [50, 100, 200],\n",
    "    'max_depth': (2, 5, 10),\n",
    "    'max_features': [0.2, 0.5, 0.7],\n",
    "    'max_samples': [0.1, 0.6, 0.7],\n",
    "    'max_leaf_nodes': (2, 5, 10)\n",
    "}\n",
    "\n",
    "# Configura GridSearchCV\n",
    "grid_search = GridSearchCV(estimator=modelo,\n",
    "                           param_grid=param_grid,\n",
    "                           scoring='neg_root_mean_squared_error',\n",
    "                           cv=3,  # Número de pliegues para la validación cruzada\n",
    "                           n_jobs=-1)\n",
    "\n",
    "# Ajusta el modelo\n",
    "#grid_search.fit(X_train, y_train)\n",
    "grid_search.fit(X_train, y_train)\n",
    "\n",
    "# Muestra el mejor conjunto de parámetros\n",
    "print(\"Mejores parámetros:\", grid_search.best_params_)\n",
    "print(\"Mejor RMSE:\", -grid_search.best_score_)\n",
    "\n",
    "# Obtener el mejor modelo\n",
    "modelo = grid_search.best_estimator_"
   ]
  },
  {
   "cell_type": "code",
   "execution_count": null,
   "metadata": {},
   "outputs": [],
   "source": [
    "# Metricas de evaluacion (R2)\n",
    "train_score = modelo.score(X_train, y_train)*100\n",
    "print(f'R2 de entrenamiento: {train_score:.3f} %')\n",
    "test_score = modelo.score(X_test, y_test)*100\n",
    "print(f'R2 de prueba: {test_score:.3f} %')"
   ]
  },
  {
   "cell_type": "markdown",
   "metadata": {},
   "source": [
    "### 5.1 Interpretación: Gráfico de relevancia de variables"
   ]
  },
  {
   "cell_type": "code",
   "execution_count": null,
   "metadata": {},
   "outputs": [],
   "source": [
    "# Grafico de relevancia de variables\n",
    "n_perf=20\n",
    "\n",
    "nombres_var = modelo.feature_names_in_\n",
    "data_model = pd.concat([pd.Series(nombres_var),\n",
    "                        pd.Series(modelo.feature_importances_ )], axis=1)\n",
    "data_model.columns = ['Feature', 'Values']\n",
    "data_model = data_model.sort_values('Values', ascending=False)\n",
    "data_model = data_model.iloc[0:n_perf]\n",
    "\n",
    "plt.figure(figsize=(10, 6))\n",
    "sns.barplot(data=data_model, x='Values', y='Feature', color='#1f77b4')\n",
    "plt.title('Relevancia de Variables', size=16, fontweight='bold')\n",
    "plt.xticks(rotation=90)\n",
    "plt.xlabel('Relevancia media')\n",
    "plt.ylabel('Variable')\n",
    "plt.tight_layout()\n",
    "plt.show()"
   ]
  },
  {
   "cell_type": "markdown",
   "metadata": {},
   "source": [
    "### 5.2 Interpretación: Gráfico de dependencia parcial"
   ]
  },
  {
   "cell_type": "code",
   "execution_count": null,
   "metadata": {},
   "outputs": [],
   "source": [
    "# Grafico de dependencia parcial de las variables\n",
    "variables = ['TEMP_MIN_PROM']\n",
    "\n",
    "common_params = {\n",
    "    \"subsample\": 0.999,\n",
    "    \"n_jobs\": 2,\n",
    "    \"grid_resolution\": 10,\n",
    "    \"random_state\": 42\n",
    "}\n",
    "\n",
    "features_info = {\n",
    "    # features of interest\n",
    "    \"features\": variables,\n",
    "    # type of partial dependence plot: average, individual, both\n",
    "    \"kind\": \"average\",\n",
    "    # information regarding categorical features\n",
    "    \"categorical_features\": var_categoricas\n",
    "}\n",
    "\n",
    "display = PartialDependenceDisplay.from_estimator(\n",
    "    modelo,\n",
    "    X_train,\n",
    "    **features_info,\n",
    "    **common_params,\n",
    ")"
   ]
  },
  {
   "cell_type": "markdown",
   "metadata": {},
   "source": [
    "### APRENDIZAJE NO SUPERVISADO"
   ]
  },
  {
   "cell_type": "code",
   "execution_count": null,
   "metadata": {},
   "outputs": [],
   "source": [
    "# Cargar el dataset\n",
    "data = pd.read_csv('https://github.com/oestradavargas/Taller_Analitica_datos/raw/main/datos.csv', encoding='latin')\n",
    "\n",
    "# Seleccion de variables numéricas\n",
    "data = data[data.select_dtypes('number').columns]\n",
    "\n",
    "data['TEMP_PROM'] = (data['TEMP_MIN_PROM'] + data['TEMP_MAX_PROM']) / 2\n",
    "\n",
    "# Seleccionar las variables de clima y suelo para el clustering\n",
    "X = data[['TEMP_PROM', 'PREC_ACUM', 'REL_HUM_PROM', 'pH', 'C_ORG_SUELO']]\n",
    "\n",
    "# Eliminar las filas con valores nulos\n",
    "X = X.dropna()\n",
    "\n",
    "# Determinar el número óptimo de clusters usando el método del codo\n",
    "wcss = []  # within-cluster sum of squares (suma de cuadrados dentro de los clusters)\n",
    "for i in range(1, 11):  # Probar con 1 a 10 clusters\n",
    "    kmeans = KMeans(n_clusters=i, random_state=42)\n",
    "    kmeans.fit(X)\n",
    "    wcss.append(kmeans.inertia_)  # inertia_ es el valor WCSS\n",
    "\n",
    "# Gráfica del método del codo\n",
    "plt.figure(figsize=(10, 6))\n",
    "plt.plot(range(1, 11), wcss, marker='o', linestyle='--')\n",
    "plt.title('GRAFICA \"METODO DEL CODO\"', fontsize=16, fontweight='bold')\n",
    "plt.xlabel('Número de Clusters')\n",
    "plt.ylabel('WCSS')\n",
    "plt.show()"
   ]
  },
  {
   "cell_type": "code",
   "execution_count": null,
   "metadata": {},
   "outputs": [],
   "source": [
    "# Basado en la gráfica, seleccionamos un número óptimo de clusters\n",
    "optimal_clusters = 2\n",
    "kmeans = KMeans(n_clusters=optimal_clusters, random_state=42)\n",
    "clusters = kmeans.fit_predict(X)\n",
    "\n",
    "# Agregar los clusters al DataFrame original\n",
    "data['Cluster'] = clusters\n",
    "\n",
    "# Crear un gráfico de dispersión de las parcelas agrupadas\n",
    "plt.figure(figsize=(10, 6))\n",
    "sns.scatterplot(x='TEMP_PROM', y='PREC_ACUM', hue='Cluster', data=data, palette='Set1', s=100)\n",
    "plt.title('CLUSTERING BASADO EN CLIMA Y SUELO', fontsize=16, fontweight='bold')\n",
    "plt.xlabel('Temperatura media (°C)')\n",
    "plt.ylabel('Precipitación acumulada (mm)')\n",
    "plt.legend(title='Cluster')\n",
    "plt.show()\n",
    "\n",
    "# Visualizar las características promedio de cada cluster\n",
    "cluster_means = data.groupby('Cluster').mean()\n",
    "cluster_means.head()"
   ]
  }
 ],
 "metadata": {
  "kernelspec": {
   "display_name": "Python 3",
   "language": "python",
   "name": "python3"
  },
  "language_info": {
   "codemirror_mode": {
    "name": "ipython",
    "version": 3
   },
   "file_extension": ".py",
   "mimetype": "text/x-python",
   "name": "python",
   "nbconvert_exporter": "python",
   "pygments_lexer": "ipython3",
   "version": "3.11.6"
  }
 },
 "nbformat": 4,
 "nbformat_minor": 2
}
