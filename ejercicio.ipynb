{
 "cells": [
  {
   "cell_type": "markdown",
   "metadata": {},
   "source": [
    "# Ejercicio de análisis e interpretación de datos\n",
    "## Curso Intersemestral “Modernización del manejo del cultivo del Arroz\"\n",
    "## Oscar Estrada - Alianza Bioversity CIAT\n"
   ]
  },
  {
   "cell_type": "markdown",
   "metadata": {},
   "source": [
    "### 1. Cargar librerías"
   ]
  },
  {
   "cell_type": "code",
   "execution_count": null,
   "metadata": {},
   "outputs": [],
   "source": [
    "# Librerias necesarias para la manipulacion de datos, exploracion y modelacion\n",
    "import pandas as pd\n",
    "import numpy as np\n",
    "import matplotlib.pyplot as plt\n",
    "import seaborn as sns\n",
    "sns.set_style(\"darkgrid\") #whitegrid\n",
    "from sklearn.model_selection import train_test_split\n",
    "from sklearn.ensemble import RandomForestRegressor\n",
    "from sklearn.inspection import PartialDependenceDisplay"
   ]
  },
  {
   "cell_type": "markdown",
   "metadata": {},
   "source": [
    "### 2. Cargar datos"
   ]
  },
  {
   "cell_type": "code",
   "execution_count": null,
   "metadata": {},
   "outputs": [],
   "source": [
    "# Cargar datos desde GitHub\n",
    "df = pd.read_csv('https://github.com/oestradavargas/Taller_UTolima/raw/main/arroz.csv', encoding='latin')"
   ]
  },
  {
   "cell_type": "code",
   "execution_count": null,
   "metadata": {},
   "outputs": [],
   "source": [
    "# Ver tamaño de la base de datos (filas, columnas)\n",
    "df.shape"
   ]
  },
  {
   "cell_type": "code",
   "execution_count": null,
   "metadata": {},
   "outputs": [],
   "source": [
    "# Ver el encabezado de la base de datos\n",
    "df.head()"
   ]
  },
  {
   "cell_type": "code",
   "execution_count": null,
   "metadata": {},
   "outputs": [],
   "source": [
    "# Identificacion de variables numericas\n",
    "var_numericas =  (df.drop('REND', axis=1)).select_dtypes('number').columns\n",
    "var_numericas"
   ]
  },
  {
   "cell_type": "code",
   "execution_count": null,
   "metadata": {},
   "outputs": [],
   "source": [
    "# Codificacion de variables dicotomicas SI/NO\n",
    "#pd.set_option('future.no_silent_downcasting', True)\n",
    "df = df.replace({'Si': 1, 'No': 0})"
   ]
  },
  {
   "cell_type": "code",
   "execution_count": null,
   "metadata": {},
   "outputs": [],
   "source": [
    "# Ver cantidad de datos y tipo de variables\n",
    "df.info()"
   ]
  },
  {
   "cell_type": "markdown",
   "metadata": {},
   "source": [
    "### 3.1. Análisis exploratorio (numérico)"
   ]
  },
  {
   "cell_type": "code",
   "execution_count": null,
   "metadata": {},
   "outputs": [],
   "source": [
    "# Identificar las variables con datos faltantes NA\n",
    "df.isna().sum(0).sort_values(ascending=False).head(10)"
   ]
  },
  {
   "cell_type": "code",
   "execution_count": null,
   "metadata": {},
   "outputs": [],
   "source": [
    "# Eliminar registros con datos faltantes\n",
    "df = df.dropna()"
   ]
  },
  {
   "cell_type": "code",
   "execution_count": null,
   "metadata": {},
   "outputs": [],
   "source": [
    "df.isna().sum(0).sort_values(ascending=False).head(10)"
   ]
  },
  {
   "cell_type": "code",
   "execution_count": null,
   "metadata": {},
   "outputs": [],
   "source": [
    "# Resumen estadistico de las variables numericas\n",
    "df.describe()"
   ]
  },
  {
   "cell_type": "code",
   "execution_count": null,
   "metadata": {},
   "outputs": [],
   "source": [
    "# Descripcion de las variables categoricas\n",
    "df.describe(include='object')"
   ]
  },
  {
   "cell_type": "code",
   "execution_count": null,
   "metadata": {},
   "outputs": [],
   "source": [
    "# Exploracion de una variable categorica individualmente\n",
    "df['TEXTURA'].value_counts()"
   ]
  },
  {
   "cell_type": "code",
   "execution_count": null,
   "metadata": {},
   "outputs": [],
   "source": [
    "# Eliminar una variable\n",
    "df = df.drop('TEXTURA', axis=1)"
   ]
  },
  {
   "cell_type": "markdown",
   "metadata": {},
   "source": [
    "### 3.2 Análisis exploratorio (gráfico)"
   ]
  },
  {
   "cell_type": "code",
   "execution_count": null,
   "metadata": {},
   "outputs": [],
   "source": [
    "# Histograma de la libreria Seaborn\n",
    "plt.figure(figsize=(10, 6))\n",
    "sns.histplot(data=df, x='REND', bins=18, kde=True)\n",
    "plt.title('HISTOGRAMA DE RENDIMIENTO', fontsize=16, fontweight='bold')\n",
    "plt.xlabel('Rendimiento (ton/ha)', fontweight = 'bold')\n",
    "plt.ylabel('Frecuencia', fontweight = 'bold')\n",
    "plt.tight_layout()\n",
    "plt.show()"
   ]
  },
  {
   "cell_type": "code",
   "execution_count": null,
   "metadata": {},
   "outputs": [],
   "source": [
    "# Boxplot\n",
    "plt.figure(figsize=(10, 6))\n",
    "sns.boxplot(data=df, x='REND')\n",
    "plt.title('BOXPLOT DE RENDIMIENTO', fontsize=16, fontweight='bold')\n",
    "plt.xlabel('(ton/ha)', fontweight = 'bold')\n",
    "plt.tight_layout()\n",
    "plt.show()"
   ]
  },
  {
   "cell_type": "code",
   "execution_count": null,
   "metadata": {},
   "outputs": [],
   "source": [
    "# Boxplots de fertilizantes\n",
    "fig, axes = plt.subplots(1, 3, figsize=(10, 6))\n",
    "sns.boxplot(y='N_TOTAL', data=df, color = '#1f77b4', ax=axes[0])\n",
    "axes[0].set_title('N TOTAL', fontweight = 'bold')\n",
    "axes[0].set_ylabel('(kg/ha)', fontweight = 'bold')\n",
    "sns.boxplot(y='P2O5_TOTAL', data=df, color = '#1f77b4', ax=axes[1])\n",
    "axes[1].set_title('P2O5 TOTAL', fontweight = 'bold')\n",
    "axes[1].set_ylabel('(kg/ha)', fontweight = 'bold')\n",
    "sns.boxplot(y='K2O_TOTAL', data=df, color = '#1f77b4', ax=axes[2])\n",
    "axes[2].set_title('K2O TOTAL', fontweight = 'bold')\n",
    "axes[2].set_ylabel('(kg/ha)', fontweight = 'bold')\n",
    "fig.suptitle('BOXPLOTS DE FERTILIZANTES QUIMICOS TOTALES', fontsize=16, fontweight='bold')\n",
    "plt.tight_layout()\n",
    "plt.show()"
   ]
  },
  {
   "cell_type": "code",
   "execution_count": null,
   "metadata": {},
   "outputs": [],
   "source": [
    "# Grafico de dispersión\n",
    "plt.figure(figsize=(10, 6))\n",
    "sns.scatterplot(data=df, y='REND', x='N_TOTAL')\n",
    "plt.title('N_TOTAL vs RENDIMIENTO', fontsize=16, fontweight='bold')\n",
    "plt.xlabel('N_TOTAL (kg/ha)', fontweight = 'bold')\n",
    "plt.ylabel('Rendimiento (ton/ha)', fontweight = 'bold')\n",
    "plt.tight_layout()\n",
    "plt.show()"
   ]
  },
  {
   "cell_type": "code",
   "execution_count": null,
   "metadata": {},
   "outputs": [],
   "source": [
    "# Eliminar valores fuera de rango para los fertilizantes\n",
    "df = df[(df['N_TOTAL'] >= 0) & (df['N_TOTAL'] <= 250*1.3)]\n",
    "df = df[(df['P2O5_TOTAL'] >= 0) & (df['P2O5_TOTAL'] <= 100*1.3)]\n",
    "data = df[(df['K2O_TOTAL'] >= 0) & (df['K2O_TOTAL'] <= 150*1.3)]"
   ]
  },
  {
   "cell_type": "code",
   "execution_count": null,
   "metadata": {},
   "outputs": [],
   "source": [
    "# Grafico de frecuencias de variedades\n",
    "orden = ['Otro', 'Fedearroz_67', 'Fedearroz_2020', 'Fedearroz_Ibis', 'Fedearroz_2000',\n",
    "        'Fedearroz_68']\n",
    "\n",
    "plt.figure(figsize=(10, 6))\n",
    "ax = sns.countplot(x=\"VARIEDAD\", data=df, order=orden, color = '#1f77b4')\n",
    "\n",
    "# Agregar etiquetas de frecuencia en cada barra\n",
    "for p in ax.patches:\n",
    "    ax.annotate(f'{p.get_height()} ({p.get_height() / len(df) * 100:.2f}%)',\n",
    "                (p.get_x() + p.get_width() / 2., p.get_height()),\n",
    "                ha='center', va='center', xytext=(0, 10), textcoords='offset points', fontsize=12)\n",
    "\n",
    "plt.title('DISTRIBUCION DE VARIEDADES', fontsize=16, fontweight='bold')\n",
    "plt.xlabel('Variedad', fontweight = 'bold')\n",
    "plt.ylabel('Frecuencia', fontweight = 'bold')\n",
    "plt.tight_layout()\n",
    "plt.show()"
   ]
  },
  {
   "cell_type": "markdown",
   "metadata": {},
   "source": [
    "### 4. Modelacion (Random Forest)"
   ]
  },
  {
   "cell_type": "code",
   "execution_count": null,
   "metadata": {},
   "outputs": [],
   "source": [
    "# Codificar las variables categoricas\n",
    "df = pd.get_dummies(df, drop_first=True, dtype = int)\n",
    "df = df.reset_index(drop=True)"
   ]
  },
  {
   "cell_type": "code",
   "execution_count": null,
   "metadata": {},
   "outputs": [],
   "source": [
    "#### Definicion de X y Y\n",
    "X, y = df.drop(columns=\"REND\"), df[\"REND\"]"
   ]
  },
  {
   "cell_type": "code",
   "execution_count": null,
   "metadata": {},
   "outputs": [],
   "source": [
    "### Particionamiento de los datos\n",
    "X_train, X_test, y_train, y_test = train_test_split(X, y, test_size = 0.20, random_state= 42)"
   ]
  },
  {
   "cell_type": "code",
   "execution_count": null,
   "metadata": {},
   "outputs": [],
   "source": [
    "# Identificacion de las variables categoricas\n",
    "var_categoricas = list(set(X_train.columns) - set(var_numericas))\n",
    "var_categoricas = pd.Index(var_categoricas)\n",
    "var_categoricas"
   ]
  },
  {
   "cell_type": "code",
   "execution_count": null,
   "metadata": {},
   "outputs": [],
   "source": [
    "# Modelo RandomForest\n",
    "modelo = RandomForestRegressor(random_state=4,\n",
    "                               n_jobs=-1)\n",
    "\n",
    "modelo.fit(X_train, y_train)"
   ]
  },
  {
   "cell_type": "code",
   "execution_count": null,
   "metadata": {},
   "outputs": [],
   "source": [
    "# Metricas de evaluacion (R2)\n",
    "train_score = modelo.score(X_train, y_train)*100\n",
    "print(f'R2 de entrenamiento: {train_score:.3f} %')\n",
    "test_score = modelo.score(X_test, y_test)*100\n",
    "print(f'R2 de prueba: {test_score:.3f} %')"
   ]
  },
  {
   "cell_type": "markdown",
   "metadata": {},
   "source": [
    "### 5.1 Interpretación: Gráfico de relevancia de variables"
   ]
  },
  {
   "cell_type": "code",
   "execution_count": null,
   "metadata": {},
   "outputs": [],
   "source": [
    "# Grafico de relevancia de variables\n",
    "n_perf=20\n",
    "\n",
    "nombres_var = modelo.feature_names_in_\n",
    "data_model = pd.concat([pd.Series(nombres_var),\n",
    "                        pd.Series(modelo.feature_importances_ )], axis=1)\n",
    "data_model.columns = ['Feature', 'Values']\n",
    "data_model = data_model.sort_values('Values', ascending=False)\n",
    "data_model = data_model.iloc[0:n_perf]\n",
    "\n",
    "plt.figure(figsize=(10, 6))\n",
    "sns.barplot(data=data_model, x='Values', y='Feature', color='#1f77b4')\n",
    "plt.title('Relevancia de Variables', size=16, fontweight='bold')\n",
    "plt.xticks(rotation=90)\n",
    "plt.xlabel('Relevancia media', fontweight='bold')\n",
    "plt.ylabel('Variable', fontweight='bold')\n",
    "plt.tight_layout()\n",
    "plt.show()"
   ]
  },
  {
   "cell_type": "markdown",
   "metadata": {},
   "source": [
    "### 5.2 Interpretación: Gráfico de dependencia parcial"
   ]
  },
  {
   "cell_type": "code",
   "execution_count": null,
   "metadata": {},
   "outputs": [],
   "source": [
    "# Grafico de dependencia parcial de las variables\n",
    "variables = ['RAD_SOL_ACUM']\n",
    "\n",
    "common_params = {\n",
    "    \"subsample\": 0.999,\n",
    "    \"n_jobs\": 2,\n",
    "    \"grid_resolution\": 10,\n",
    "    \"random_state\": 42\n",
    "}\n",
    "\n",
    "features_info = {\n",
    "    # features of interest\n",
    "    \"features\": variables,\n",
    "    # type of partial dependence plot: average, individual, both\n",
    "    \"kind\": \"average\",\n",
    "    # information regarding categorical features\n",
    "    \"categorical_features\": var_categoricas\n",
    "}\n",
    "\n",
    "display = PartialDependenceDisplay.from_estimator(\n",
    "    modelo,\n",
    "    X_train,\n",
    "    **features_info,\n",
    "    **common_params,\n",
    ")"
   ]
  }
 ],
 "metadata": {
  "kernelspec": {
   "display_name": "Python 3",
   "language": "python",
   "name": "python3"
  },
  "language_info": {
   "codemirror_mode": {
    "name": "ipython",
    "version": 3
   },
   "file_extension": ".py",
   "mimetype": "text/x-python",
   "name": "python",
   "nbconvert_exporter": "python",
   "pygments_lexer": "ipython3",
   "version": "3.11.6"
  }
 },
 "nbformat": 4,
 "nbformat_minor": 2
}
